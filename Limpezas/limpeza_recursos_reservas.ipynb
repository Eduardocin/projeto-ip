{
 "cells": [
  {
   "cell_type": "markdown",
   "metadata": {},
   "source": [
    "# Reservas Provadas de Petróleo e Gás Natural"
   ]
  },
  {
   "cell_type": "code",
   "execution_count": 19,
   "metadata": {},
   "outputs": [],
   "source": [
    "import pandas as pd\n",
    "df = pd.read_excel('../databases/Dados EPE/Recursos e Reservas Energéticas.xlsx', sheet_name=\"tabela 6.2\")\n",
    "df.drop(df.head(4).index, inplace=True)\n",
    "df.reset_index(drop=True, inplace=True)\n",
    "df.drop(df.tail(12).index, inplace=True)\n",
    "df.drop(columns=df.columns[0], axis=1, inplace=True)\n",
    "new_header = df.iloc[0]\n",
    "new_header.iloc[0] = \"ANO\"\n",
    "df = df[1:]\n",
    "df.columns = new_header\n",
    "df.dropna(inplace=True)\n",
    "df.rename(columns={\n",
    "    'ANO': 'ano',\n",
    "    'PETRÓLEO': 'petróleo_10^3m3',\n",
    "    'GÁS NATURAL': 'gás_natural_10^6m3'\n",
    "}, inplace=True)\n",
    "reservas_petroleo_gas = df"
   ]
  },
  {
   "cell_type": "markdown",
   "metadata": {},
   "source": [
    "# Recursos Hidráulicos"
   ]
  },
  {
   "cell_type": "code",
   "execution_count": 20,
   "metadata": {},
   "outputs": [],
   "source": [
    "df = pd.read_excel('../databases/Dados EPE/Recursos e Reservas Energéticas.xlsx', sheet_name=\"tabela 6.3\")\n",
    "df.drop(df.head(5).index, inplace=True)\n",
    "df.drop(df.tail(1).index, inplace=True)\n",
    "df.drop(columns=df.columns[0], axis=1, inplace=True)\n",
    "new_header = df.iloc[0]\n",
    "new_header.iloc[0] = \"ANO\"\n",
    "df = df[1:]\n",
    "df.columns = new_header\n",
    "df.rename(columns = {\n",
    "    'INVENTARIADO + APROVEITADO / INVENTORIED': \"inventariado_mw\",\n",
    "    'ESTIMADO / ESTIMATED\\n': \"estimado_mw\",\n",
    "    'TOTAL': 'total_mw'\n",
    "}, inplace=True)\n",
    "df.reset_index(inplace=True, drop=True)\n",
    "df.dropna(inplace=True)\n",
    "recursos_hidraulicos = df"
   ]
  },
  {
   "cell_type": "markdown",
   "metadata": {},
   "source": [
    "# Reservas de Carvão Mineral"
   ]
  },
  {
   "cell_type": "code",
   "execution_count": 21,
   "metadata": {},
   "outputs": [],
   "source": [
    "df = pd.read_excel('../databases/Dados EPE/Recursos e Reservas Energéticas.xlsx', sheet_name=\"tabela 6.4\")\n",
    "df.drop(columns=df.columns[0], axis=1, inplace=True)\n",
    "df.drop(df.head(5).index, inplace=True)\n",
    "new_header = df.iloc[0]\n",
    "new_header.iloc[0] = \"ANO\"\n",
    "df = df[1:]\n",
    "df.columns = new_header\n",
    "df.drop(df.head(1).index, inplace=True)\n",
    "df.rename(columns=lambda x: x.lower(), inplace=True)\n",
    "df.dropna(inplace=True)\n",
    "df.reset_index(drop=True, inplace=True)\n",
    "reservas_carvao_mineral = df\n"
   ]
  },
  {
   "cell_type": "markdown",
   "metadata": {},
   "source": [
    "# Reservas de Urânio"
   ]
  },
  {
   "cell_type": "code",
   "execution_count": 22,
   "metadata": {},
   "outputs": [],
   "source": [
    "df = pd.read_excel('../databases/Dados EPE/Recursos e Reservas Energéticas.xlsx', sheet_name=\"tabela 6.5\")\n",
    "df.drop(df.head(6).index, inplace=True)\n",
    "df.drop(columns=df.columns[0], inplace=True)\n",
    "new_header = df.iloc[0]\n",
    "df = df[1:]\n",
    "new_header.iloc[0] = \"ANO\"\n",
    "df.columns = new_header\n",
    "df.dropna(inplace=True)\n",
    "df.reset_index(drop=True, inplace=True)\n",
    "df.rename(columns = {\n",
    "    'U3O8': \"ton_U3O8\"\n",
    "})\n",
    "reservas_de_uranio = df"
   ]
  },
  {
   "cell_type": "markdown",
   "metadata": {},
   "source": [
    "# Recursos e Reservas energéticas brasileiras"
   ]
  },
  {
   "cell_type": "code",
   "execution_count": null,
   "metadata": {},
   "outputs": [],
   "source": [
    "from string import digits\n",
    "df = pd.read_excel('../databases/Dados EPE/Recursos e Reservas Energéticas.xlsx', sheet_name=\"Tabela 6.1\")\n",
    "df.drop(df.head(3).index, inplace=True)\n",
    "df.dropna(how='all', inplace=True, axis=0)\n",
    "df.reset_index(inplace=True,drop=True)\n",
    "new_header = df.iloc[0]\n",
    "df = df[1:]\n",
    "df.columns = new_header\n",
    "df.drop(index=df.index[6:23], inplace=True)\n",
    "# df.drop(df.tail(6).index, inplace=True) ===== Isso parece remover petróleo e gás, isso foi intencional?\n",
    "df.drop(df.head(2).index, inplace=True)\n",
    "df = df.iloc[:, :-2]\n",
    "df.dropna(inplace=True)\n",
    "df = df.set_axis(['energia', 'unidade_de_medida', 'medidas', 'inferidas', 'total', 'equivalência'], axis=1)\n",
    "df['energia'] = df['energia'].apply(lambda x: x.translate(str.maketrans('', '', digits)))\n",
    "df.reset_index(inplace=True, drop=True)\n",
    "recursos_reservas_energeticas_br = df"
   ]
  },
  {
   "cell_type": "code",
   "execution_count": 26,
   "metadata": {},
   "outputs": [],
   "source": [
    "dict_recursos_reservas = {\n",
    "    'RESERVAS_PROVADAS_DE_PETROLEO_E_GAS_NATURAL': reservas_petroleo_gas,\n",
    "    'RECURSOS_HIDRAULICOS': recursos_hidraulicos,\n",
    "    'RESERVAS_DE_CARVÃO_MINERAL': reservas_carvao_mineral,\n",
    "    'RESERVAS_DE_URANIO': reservas_de_uranio,\n",
    "    'RECURSOS_E_RESERVAS_ENERGÉTICAS_BRASILEIRAS': recursos_reservas_energeticas_br\n",
    "}"
   ]
  },
  {
   "cell_type": "code",
   "execution_count": 27,
   "metadata": {},
   "outputs": [
    {
     "data": {
      "text/html": [
       "<div>\n",
       "<style scoped>\n",
       "    .dataframe tbody tr th:only-of-type {\n",
       "        vertical-align: middle;\n",
       "    }\n",
       "\n",
       "    .dataframe tbody tr th {\n",
       "        vertical-align: top;\n",
       "    }\n",
       "\n",
       "    .dataframe thead th {\n",
       "        text-align: right;\n",
       "    }\n",
       "</style>\n",
       "<table border=\"1\" class=\"dataframe\">\n",
       "  <thead>\n",
       "    <tr style=\"text-align: right;\">\n",
       "      <th></th>\n",
       "      <th>energia</th>\n",
       "      <th>unidade_de_medida</th>\n",
       "      <th>medidas</th>\n",
       "      <th>inferidas</th>\n",
       "      <th>total</th>\n",
       "      <th>equivalência</th>\n",
       "    </tr>\n",
       "  </thead>\n",
       "  <tbody>\n",
       "    <tr>\n",
       "      <th>0</th>\n",
       "      <td>CARVÃO MINERAL</td>\n",
       "      <td>106 t</td>\n",
       "      <td>25695.49424</td>\n",
       "      <td>6535</td>\n",
       "      <td>32230.49424</td>\n",
       "      <td>7014869.927499</td>\n",
       "    </tr>\n",
       "    <tr>\n",
       "      <th>1</th>\n",
       "      <td>HIDRÁULICA</td>\n",
       "      <td>GW</td>\n",
       "      <td>111.442485</td>\n",
       "      <td>23.989917</td>\n",
       "      <td>135.432401</td>\n",
       "      <td>83956.3105</td>\n",
       "    </tr>\n",
       "    <tr>\n",
       "      <th>2</th>\n",
       "      <td>ENERGIA NUCLEAR</td>\n",
       "      <td>t U3O8</td>\n",
       "      <td>177500</td>\n",
       "      <td>131870</td>\n",
       "      <td>309370</td>\n",
       "      <td>2154010.622349</td>\n",
       "    </tr>\n",
       "    <tr>\n",
       "      <th>3</th>\n",
       "      <td>PETRÓLEO</td>\n",
       "      <td>103 m³</td>\n",
       "      <td>2362178.73</td>\n",
       "      <td>3488887.71</td>\n",
       "      <td>4280674.32</td>\n",
       "      <td>1308431.67</td>\n",
       "    </tr>\n",
       "    <tr>\n",
       "      <th>4</th>\n",
       "      <td>GÁS NATURAL</td>\n",
       "      <td>106 m³</td>\n",
       "      <td>406524.73</td>\n",
       "      <td>517573.33</td>\n",
       "      <td>587859.26</td>\n",
       "      <td>268415.71</td>\n",
       "    </tr>\n",
       "  </tbody>\n",
       "</table>\n",
       "</div>"
      ],
      "text/plain": [
       "            energia unidade_de_medida      medidas   inferidas        total  \\\n",
       "0   CARVÃO MINERAL              106 t  25695.49424        6535  32230.49424   \n",
       "1       HIDRÁULICA                 GW   111.442485   23.989917   135.432401   \n",
       "2  ENERGIA NUCLEAR             t U3O8       177500      131870       309370   \n",
       "3          PETRÓLEO            103 m³   2362178.73  3488887.71   4280674.32   \n",
       "4       GÁS NATURAL            106 m³    406524.73   517573.33    587859.26   \n",
       "\n",
       "     equivalência  \n",
       "0  7014869.927499  \n",
       "1      83956.3105  \n",
       "2  2154010.622349  \n",
       "3      1308431.67  \n",
       "4       268415.71  "
      ]
     },
     "execution_count": 27,
     "metadata": {},
     "output_type": "execute_result"
    }
   ],
   "source": [
    "dict_recursos_reservas['RECURSOS_E_RESERVAS_ENERGÉTICAS_BRASILEIRAS']"
   ]
  }
 ],
 "metadata": {
  "kernelspec": {
   "display_name": "ip-ds",
   "language": "python",
   "name": "python3"
  },
  "language_info": {
   "codemirror_mode": {
    "name": "ipython",
    "version": 3
   },
   "file_extension": ".py",
   "mimetype": "text/x-python",
   "name": "python",
   "nbconvert_exporter": "python",
   "pygments_lexer": "ipython3",
   "version": "3.11.0"
  }
 },
 "nbformat": 4,
 "nbformat_minor": 2
}
