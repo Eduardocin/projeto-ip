{
 "cells": [
  {
   "cell_type": "markdown",
   "metadata": {},
   "source": [
    "# Reservas Provadas de Petróleo e Gás Natural"
   ]
  },
  {
   "cell_type": "code",
   "execution_count": null,
   "metadata": {},
   "outputs": [],
   "source": [
    "import pandas as pd\n",
    "df = pd.read_excel('../databases/Dados EPE/Recursos e Reservas Energéticas.xlsx', sheet_name=\"tabela 6.2\")\n",
    "df.drop(df.head(4).index, inplace=True)\n",
    "df.reset_index(drop=True, inplace=True)\n",
    "df.drop(df.tail(12).index, inplace=True)\n",
    "df.drop(columns=df.columns[0], axis=1, inplace=True)\n",
    "new_header = df.iloc[0]\n",
    "new_header.iloc[0] = \"ANO\"\n",
    "df = df[1:]\n",
    "df.columns = new_header\n",
    "df.dropna(inplace=True)\n",
    "df.rename(columns={\n",
    "    'ANO': 'ano',\n",
    "    'PETRÓLEO': 'petróleo_10^3m3',\n",
    "    'GÁS NATURAL': 'gás_natural_10^6m3'\n",
    "}, inplace=True)\n",
    "reservas_petroleo_gas = df"
   ]
  },
  {
   "cell_type": "markdown",
   "metadata": {},
   "source": [
    "# Recursos Hidráulicos"
   ]
  },
  {
   "cell_type": "code",
   "execution_count": null,
   "metadata": {},
   "outputs": [],
   "source": [
    "df = pd.read_excel('../databases/Dados EPE/Recursos e Reservas Energéticas.xlsx', sheet_name=\"tabela 6.3\")\n",
    "df.drop(df.head(5).index, inplace=True)\n",
    "df.drop(df.tail(1).index, inplace=True)\n",
    "df.drop(columns=df.columns[0], axis=1, inplace=True)\n",
    "new_header = df.iloc[0]\n",
    "new_header.iloc[0] = \"ano\"\n",
    "df = df[1:]\n",
    "df.columns = new_header\n",
    "df.rename(columns = {\n",
    "    'INVENTARIADO + APROVEITADO / INVENTORIED': \"inventariado_mw\",\n",
    "    'ESTIMADO / ESTIMATED\\n': \"estimado_mw\",\n",
    "    'TOTAL': 'total_mw'\n",
    "}, inplace=True)\n",
    "df.reset_index(inplace=True, drop=True)\n",
    "df.dropna(inplace=True)\n",
    "recursos_hidraulicos = df"
   ]
  },
  {
   "cell_type": "markdown",
   "metadata": {},
   "source": [
    "# Reservas de Carvão Mineral"
   ]
  },
  {
   "cell_type": "code",
   "execution_count": null,
   "metadata": {},
   "outputs": [],
   "source": [
    "df = pd.read_excel('../databases/Dados EPE/Recursos e Reservas Energéticas.xlsx', sheet_name=\"tabela 6.4\")\n",
    "df.drop(columns=df.columns[0], axis=1, inplace=True)\n",
    "df.drop(df.head(5).index, inplace=True)\n",
    "new_header = df.iloc[0]\n",
    "new_header.iloc[0] = \"ano\"\n",
    "df = df[1:]\n",
    "df.columns = new_header\n",
    "df.drop(df.head(1).index, inplace=True)\n",
    "df.rename(columns=lambda x: x.lower(), inplace=True)\n",
    "df.dropna(inplace=True)\n",
    "df.reset_index(drop=True, inplace=True)\n",
    "reservas_carvao_mineral = df\n"
   ]
  },
  {
   "cell_type": "markdown",
   "metadata": {},
   "source": [
    "# Reservas de Urânio"
   ]
  },
  {
   "cell_type": "code",
   "execution_count": null,
   "metadata": {},
   "outputs": [],
   "source": [
    "df = pd.read_excel('../databases/Dados EPE/Recursos e Reservas Energéticas.xlsx', sheet_name=\"tabela 6.5\")\n",
    "df.drop(df.head(6).index, inplace=True)\n",
    "df.drop(columns=df.columns[0], inplace=True)\n",
    "new_header = df.iloc[0]\n",
    "df = df[1:]\n",
    "new_header.iloc[0] = \"ano\"\n",
    "df.columns = new_header\n",
    "df.dropna(inplace=True)\n",
    "df.reset_index(drop=True, inplace=True)\n",
    "df.rename(columns = {\n",
    "    'U3O8': \"ton_U3O8\"\n",
    "})\n",
    "reservas_de_uranio = df"
   ]
  },
  {
   "cell_type": "markdown",
   "metadata": {},
   "source": [
    "# Recursos e Reservas energéticas brasileiras"
   ]
  },
  {
   "cell_type": "code",
   "execution_count": null,
   "metadata": {},
   "outputs": [],
   "source": [
    "df = pd.read_excel('../databases/Dados EPE/Recursos e Reservas Energéticas.xlsx', sheet_name=\"Tabela 6.1\")\n",
    "df.drop(df.head(3).index, inplace=True)\n",
    "df.dropna(how='all', inplace=True, axis=0)\n",
    "df.reset_index(inplace=True,drop=True)\n",
    "new_header = df.iloc[0]\n",
    "df = df[1:]\n",
    "df.columns = new_header\n",
    "df.drop(index=df.index[6:23], inplace=True)\n",
    "df.drop(df.tail(6).index, inplace=True)\n",
    "df.drop(df.head(2).index, inplace=True)\n",
    "df = df.iloc[:, :-2]\n",
    "df.dropna(inplace=True)\n",
    "df = df.set_axis(['energia', 'unidade_de_medida', 'medidas', 'inferidas', 'total', 'equivalência'], axis=1)\n",
    "df['energia'] = df['energia'].apply(lambda x: x.split(' ')[0])\n",
    "df.reset_index(inplace=True, drop=True)\n",
    "recursos_reservas_energeticas_br = df\n"
   ]
  },
  {
   "cell_type": "code",
   "execution_count": null,
   "metadata": {},
   "outputs": [],
   "source": [
    "dict_recursos_reservas = {\n",
    "    'RESERVAS_PROVADAS_DE_PETROLEO_E_GAS_NATURAL': reservas_petroleo_gas,\n",
    "    'RECURSOS_HIDRAULICOS': recursos_hidraulicos,\n",
    "    'RESERVAS_DE_CARVÃO_MINERAL': reservas_carvao_mineral,\n",
    "    'RESERVAS_DE_URANIO': reservas_de_uranio,\n",
    "    'RECURSOS_E_RESERVAS_ENERGÉTICAS_BRASILEIRAS': recursos_reservas_energeticas_br\n",
    "}"
   ]
  }
 ],
 "metadata": {
  "kernelspec": {
   "display_name": "ip-ds",
   "language": "python",
   "name": "python3"
  },
  "language_info": {
   "codemirror_mode": {
    "name": "ipython",
    "version": 3
   },
   "file_extension": ".py",
   "mimetype": "text/x-python",
   "name": "python",
   "nbconvert_exporter": "python",
   "pygments_lexer": "ipython3",
   "version": "3.11.7"
  }
 },
 "nbformat": 4,
 "nbformat_minor": 2
}
