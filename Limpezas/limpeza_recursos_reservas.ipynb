{
 "cells": [
  {
   "cell_type": "markdown",
   "metadata": {},
   "source": [
    "# Reservas Provadas de Petróleo e Gás Natural"
   ]
  },
  {
   "cell_type": "code",
   "execution_count": 40,
   "metadata": {},
   "outputs": [],
   "source": [
    "import pandas as pd\n",
    "df = pd.read_excel('../databases/Dados EPE/Recursos e Reservas Energéticas.xlsx', sheet_name=\"tabela 6.2\")\n",
    "# deletando metadados da tabela do EPE\n",
    "df = df.drop(df.head(4).index)\n",
    "df = df.drop(df.tail(12).index)\n",
    "df = df.drop(columns=df.columns[0], axis=1)\n",
    "\n",
    "# trocando o nome das colunas\n",
    "new_header = df.iloc[0]\n",
    "new_header.iloc[0] = \"ANO\"\n",
    "df = df[1:]\n",
    "df.columns = new_header\n",
    "\n",
    "# dropando linhas de valores vazios e renomeando colunas\n",
    "df = df.dropna()\n",
    "df = df.rename(columns={\n",
    "    'PETRÓLEO': 'petróleo_10^3m3',\n",
    "    'GÁS NATURAL': 'gás_natural_10^6m3'\n",
    "})\n",
    "df  =df.reset_index(drop=True)\n",
    "reservas_petroleo_gas = df"
   ]
  },
  {
   "cell_type": "markdown",
   "metadata": {},
   "source": [
    "# Recursos Hidráulicos"
   ]
  },
  {
   "cell_type": "code",
   "execution_count": 41,
   "metadata": {},
   "outputs": [],
   "source": [
    "df = pd.read_excel('../databases/Dados EPE/Recursos e Reservas Energéticas.xlsx', sheet_name=\"tabela 6.3\")\n",
    "\n",
    "# deletando metadados das tabelas da EPE\n",
    "df = df.drop(df.head(5).index)\n",
    "df = df.drop(df.tail(1).index)\n",
    "df = df.drop(columns=df.columns[0], axis=1,)\n",
    "\n",
    "# renomando colunas\n",
    "new_header = df.iloc[0]\n",
    "new_header.iloc[0] = \"ANO\"\n",
    "df = df[1:]\n",
    "df.columns = new_header\n",
    "\n",
    "# removendo linhas vazias e renomeando colunas\n",
    "df = df.rename(columns = {\n",
    "    'INVENTARIADO + APROVEITADO / INVENTORIED': \"inventariado_mw\",\n",
    "    'ESTIMADO / ESTIMATED\\n': \"estimado_mw\",\n",
    "    'TOTAL': 'total_mw'\n",
    "})\n",
    "df = df.reset_index(drop=True)\n",
    "df = df.dropna()\n",
    "recursos_hidraulicos = df"
   ]
  },
  {
   "cell_type": "markdown",
   "metadata": {},
   "source": [
    "# Reservas de Carvão Mineral"
   ]
  },
  {
   "cell_type": "code",
   "execution_count": 42,
   "metadata": {},
   "outputs": [],
   "source": [
    "df = pd.read_excel('../databases/Dados EPE/Recursos e Reservas Energéticas.xlsx', sheet_name=\"tabela 6.4\")\n",
    "\n",
    "# removendo metadados das colunas do EPE\n",
    "df = df.drop(columns=df.columns[0], axis=1)\n",
    "df = df.drop(df.head(5).index)\n",
    "\n",
    "# trocando o nome das colunas\n",
    "new_header = df.iloc[0]\n",
    "new_header.iloc[0] = \"ANO\"\n",
    "df = df[1:]\n",
    "df.columns = new_header\n",
    "\n",
    "# dropando metadados remanescentes\n",
    "df.drop(df.head(1).index)\n",
    "# dropando linhas vazios\n",
    "df = df.dropna()\n",
    "df = df.reset_index(drop=True)\n",
    "reservas_carvao_mineral = df\n"
   ]
  },
  {
   "cell_type": "markdown",
   "metadata": {},
   "source": [
    "# Reservas de Urânio"
   ]
  },
  {
   "cell_type": "code",
   "execution_count": 43,
   "metadata": {},
   "outputs": [],
   "source": [
    "df = pd.read_excel('../databases/Dados EPE/Recursos e Reservas Energéticas.xlsx', sheet_name=\"tabela 6.5\")\n",
    "# dropando metadados das tabelas do EPE\n",
    "df = df.drop(df.head(6).index)\n",
    "df = df.drop(columns=df.columns[0])\n",
    "\n",
    "# trocando o nome das colunas\n",
    "new_header = df.iloc[0]\n",
    "df = df[1:]\n",
    "new_header.iloc[0] = \"ANO\"\n",
    "df.columns = new_header\n",
    "\n",
    "# dropando colunas vazias e renomeando colunas\n",
    "df = df.dropna()\n",
    "df = df.reset_index(drop=True)\n",
    "df.rename(columns = {\n",
    "    'U3O8': \"ton_U3O8\"\n",
    "})\n",
    "reservas_de_uranio = df"
   ]
  },
  {
   "cell_type": "markdown",
   "metadata": {},
   "source": [
    "# Recursos e Reservas energéticas brasileiras"
   ]
  },
  {
   "cell_type": "code",
   "execution_count": 44,
   "metadata": {},
   "outputs": [],
   "source": [
    "from string import digits\n",
    "df = pd.read_excel('../databases/Dados EPE/Recursos e Reservas Energéticas.xlsx', sheet_name=\"Tabela 6.1\")\n",
    "\n",
    "# dropando metadados das tabelas do EPE\n",
    "df = df.drop(df.head(3).index)\n",
    "df = df.dropna(how='all', axis=0)\n",
    "df = df.reset_index(drop=True)\n",
    "\n",
    "# trocando nome das colunas\n",
    "new_header = df.iloc[0]\n",
    "df = df[1:]\n",
    "df.columns = new_header\n",
    "\n",
    "# removendo mais metadados do EPE\n",
    "df = df.drop(index=df.index[6:23])\n",
    "df = df.drop(df.head(2).index)\n",
    "df = df.iloc[:, :-2]\n",
    "\n",
    "# dropando as colunas vazias\n",
    "df = df.dropna()\n",
    "df = df.set_axis(['energia', 'unidade_de_medida', 'medidas', 'inferidas', 'total', 'equivalência'], axis=1)\n",
    "\n",
    "# consertando a formatação dos textos da coluna 'energia'\n",
    "df['energia'] = df['energia'].apply(lambda x: x.translate(str.maketrans('', '', digits)))\n",
    "df = df.reset_index(drop=True)\n",
    "recursos_reservas_energeticas_br = df\n"
   ]
  },
  {
   "cell_type": "code",
   "execution_count": 45,
   "metadata": {},
   "outputs": [],
   "source": [
    "dict_recursos_reservas = {\n",
    "    'RESERVAS_PROVADAS_DE_PETROLEO_E_GAS_NATURAL': reservas_petroleo_gas,\n",
    "    'RECURSOS_HIDRAULICOS': recursos_hidraulicos,\n",
    "    'RESERVAS_DE_CARVÃO_MINERAL': reservas_carvao_mineral,\n",
    "    'RESERVAS_DE_URANIO': reservas_de_uranio,\n",
    "    'RECURSOS_E_RESERVAS_ENERGÉTICAS_BRASILEIRAS': recursos_reservas_energeticas_br\n",
    "}"
   ]
  },
  {
   "cell_type": "code",
   "execution_count": 46,
   "metadata": {},
   "outputs": [],
   "source": [
    "dfs = [dict_recursos_reservas['RESERVAS_DE_CARVÃO_MINERAL'], dict_recursos_reservas['RECURSOS_HIDRAULICOS'],\n",
    "       dict_recursos_reservas['RESERVAS_PROVADAS_DE_PETROLEO_E_GAS_NATURAL'], dict_recursos_reservas['RESERVAS_DE_URANIO']\n",
    "       ]\n",
    "\n",
    "df = dfs[0]\n",
    "# unindo os dataframes com base no ano\n",
    "for next_df in dfs[1:]:\n",
    "    df = df.merge(next_df, on='ANO', how='outer')  "
   ]
  },
  {
   "cell_type": "code",
   "execution_count": 47,
   "metadata": {},
   "outputs": [],
   "source": [
    "df = df.rename(columns={\n",
    "    'ANO': 'ano',\n",
    "    'ENERGÉTICO':'carvão_energético',\n",
    "    'METALÚRGICO': 'carvão_metalúrgico',\n",
    "    'TOTAL': 'carvão_total',\n",
    "    'PEAT': 'peat',\n",
    "    'inventariado_mw': 'hidraulico_inventariado_mw',\n",
    "    'estimado_mw': 'hidraulico_estimado_mw',\n",
    "    'total_mw': 'hidraulico_total_mw',\n",
    "    'petróleo_10^3m3': 'petróleo',\n",
    "    'gás_natural_10^6m3': 'gás_natural',\n",
    "    'U3O8': 'uranio_u3o8'\n",
    "})"
   ]
  },
  {
   "cell_type": "code",
   "execution_count": 48,
   "metadata": {},
   "outputs": [],
   "source": [
    "# alterando os tipos das colunas\n",
    "df = df.infer_objects()\n",
    "# preencher valores NaN com uma relação linear entre as variáveis (veremos mais pra frente)\n",
    "df = df.interpolate(method=\"linear\", limit_direction=\"both\")"
   ]
  },
  {
   "cell_type": "markdown",
   "metadata": {},
   "source": [
    "Introduzindo novas colunas que revelam as mudanças percentuais de acordo com cada ano para cada reserva, permitindo uma melhor compreensão da variação ao longo do tempo."
   ]
  },
  {
   "cell_type": "code",
   "execution_count": 49,
   "metadata": {},
   "outputs": [],
   "source": [
    "colunas_reservas = ['petróleo', 'gás_natural', 'carvão_total', 'gás_natural', 'uranio_u3o8', 'hidraulico_total_mw']\n",
    "\n",
    "# calculando os percentuais\n",
    "for col in colunas_reservas:\n",
    "    df[f'{col}_mudança_perct'] = df[col].pct_change() * 100\n",
    "\n",
    "df['hidraulico_total_mw_mudança_perct'] = df['hidraulico_total_mw'].pct_change() * 100\n",
    "# preenchendo com zero os valores do ano 1970, já que não existem anos anteriores nos dados\n",
    "df_recursos = df.fillna(0)"
   ]
  },
  {
   "cell_type": "code",
   "execution_count": 36,
   "metadata": {},
   "outputs": [],
   "source": [
    "%run ../Limpezas/limpeza_oferta_demanda.ipynb"
   ]
  },
  {
   "cell_type": "markdown",
   "metadata": {},
   "source": [
    "Preparando as tabelas de Oferta e Demanda para interseção, informações sobre consumo, produção e importação serão utilizadas e agregadas aos dados finais para futuro comparativo entre reservas/produção, reservas/consumo, etc."
   ]
  },
  {
   "cell_type": "code",
   "execution_count": 37,
   "metadata": {},
   "outputs": [],
   "source": [
    "df1 = dict_oferta_demanda['Petróleo'].rename(columns={'PRODUÇÃO 1': 'PRODUÇÃO', 'IMPORTAÇÃO 2': 'IMPORTAÇÃO'})\n",
    "df2 = dict_oferta_demanda['Energia_Hidráulica']\n",
    "df3 = dict_oferta_demanda['Gás_Natural']\n",
    "df4 = dict_oferta_demanda['Urânio']\n",
    "df5 = dict_oferta_demanda['Carvão_Metalúrgico']\n",
    "\n",
    "df_pet =  df1[['ANO', 'CONSUMO TOTAL', 'PRODUÇÃO', 'IMPORTAÇÃO']]\n",
    "df_hidr = df2[['ANO', 'CONSUMO TOTAL', 'PRODUÇÃO']]\n",
    "df_gas = df3[['ANO', 'CONSUMO TOTAL', 'PRODUÇÃO', 'IMPORTAÇÃO']]\n",
    "df_uran = df4[['ANO', 'CONSUMO TOTAL', 'PRODUÇÃO', 'IMPORTAÇÃO']]\n",
    "df_carv = df5[['ANO', 'CONSUMO TOTAL', 'PRODUÇÃO', 'IMPORTAÇÃO']]\n",
    "\n",
    "def normalizar_colunas(df):\n",
    "    return df.columns.str.lower().str.replace(' ', '_')\n",
    "\n",
    "# pega todas as colunas, exceto o ano, adiciona o sufixo e retorna a lista de todas as colunas alteradas\n",
    "def adicionar_sufixo(df: pd.DataFrame, suffix):\n",
    "    colunas_a_renomear = df.columns[df.columns != 'ano']\n",
    "    renomeadas =  colunas_a_renomear.map(lambda x: x + suffix)\n",
    "    return ['ano'] + renomeadas.tolist()\n",
    "\n",
    "dfs = [df_pet, df_hidr, df_gas, df_uran, df_carv]\n",
    "for df in dfs:\n",
    "    df.columns = normalizar_colunas(df)\n",
    "\n",
    "\n",
    "df_pet.columns = adicionar_sufixo(df_pet, '_petróleo')\n",
    "df_hidr.columns = adicionar_sufixo(df_hidr, '_hidraulica')\n",
    "df_gas.columns = adicionar_sufixo(df_gas, '_gas_natural')\n",
    "df_uran.columns = adicionar_sufixo(df_uran, '_uranio_u3o8')\n",
    "df_carv.columns = adicionar_sufixo(df_carv, '_carvão_met')\n"
   ]
  },
  {
   "cell_type": "markdown",
   "metadata": {},
   "source": [
    "Juntando as informações"
   ]
  },
  {
   "cell_type": "code",
   "execution_count": 38,
   "metadata": {},
   "outputs": [],
   "source": [
    "df_merge = pd.merge(df_pet, df_hidr, how='outer', on='ano')\n",
    "df_merge = pd.merge(df_merge, df_gas, how='outer', on='ano')\n",
    "df_merge = pd.merge(df_merge, df_uran, how='outer', on='ano')\n",
    "df_merge = pd.merge(df_merge, df_carv, how='outer', on='ano')\n",
    "\n",
    "df = pd.merge(df_recursos, df_merge, on='ano', how='outer')"
   ]
  },
  {
   "cell_type": "code",
   "execution_count": 39,
   "metadata": {},
   "outputs": [],
   "source": [
    "#Salvando num .feather por ser mais rápido e mais leve que .csv ou .xlsx\n",
    "df.to_feather('../databases/recursos.feather')"
   ]
  }
 ],
 "metadata": {
  "kernelspec": {
   "display_name": "ip-ds",
   "language": "python",
   "name": "python3"
  },
  "language_info": {
   "codemirror_mode": {
    "name": "ipython",
    "version": 3
   },
   "file_extension": ".py",
   "mimetype": "text/x-python",
   "name": "python",
   "nbconvert_exporter": "python",
   "pygments_lexer": "ipython3",
   "version": "3.11.0"
  }
 },
 "nbformat": 4,
 "nbformat_minor": 2
}
