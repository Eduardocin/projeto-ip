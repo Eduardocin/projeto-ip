{
 "cells": [
  {
   "cell_type": "markdown",
   "metadata": {},
   "source": [
    "# Limpeza do Energia e Socioeconomia"
   ]
  },
  {
   "cell_type": "markdown",
   "metadata": {},
   "source": [
    "primeiro, iremos extrair todas as sheets do arquivo com excessão do sumário"
   ]
  },
  {
   "cell_type": "code",
   "execution_count": null,
   "metadata": {},
   "outputs": [],
   "source": [
    "import pandas as pd\n",
    "\n",
    "arquivos_nomes = []\n",
    "\n",
    "for i in range(12): # 12 é o número de sheets\n",
    "    new_df = pd.read_excel(io='../databases/Dados EPE/Energia e Socioeconomia.xlsx', sheet_name=(i + 1), header=9).transpose().reset_index() # todas as tabelas começam com 9 linhas de header\n",
    "    new_df.drop(new_df.tail(1).index,inplace=True)\n",
    "    \n",
    "    new_header = new_df.iloc[0]\n",
    "    new_df = new_df[1:]\n",
    "    new_df.columns = new_header\n",
    "\n",
    "    new_df.dropna(axis='columns', inplace=True, how='all')\n",
    "    new_df.columns.values[0] = 'ANO'\n",
    "\n",
    "    arquivos_nomes.append(new_df)\n",
    "\n",
    "\n",
    "\n"
   ]
  },
  {
   "cell_type": "markdown",
   "metadata": {},
   "source": [
    "agora, vamos fazer a limpeza mais fina em cada tabela e vamos transpô-la para que os anos sejam as linhas "
   ]
  },
  {
   "cell_type": "code",
   "execution_count": null,
   "metadata": {},
   "outputs": [],
   "source": [
    "dict_dfs = {\n",
    "    \"OFERTA INTERNA DE ENERGIA/ PIB/ POPULAÇÃO\": arquivos_nomes[0], \n",
    "    \"OFERTA INTERNA DE ENERGÉTICOS/PIB\tUNIDADE: tep/10³ US$ppc (2010)\": arquivos_nomes[1],\n",
    "    \"CONSUMO FINAL ENERGÉTICO\": arquivos_nomes[2],\n",
    "    \"PRODUTO INTERNO BRUTO SETORIAL\": arquivos_nomes[3],\n",
    "    \"CONSUMO FINAL DE ENERGIA DO SETOR / PIB DO SETOR\": arquivos_nomes[4],\n",
    "    \"SETOR RESIDENCIAL  - ENERGIA/POPULAÇÃO\": arquivos_nomes[5],\n",
    "    \"SETOR DE TRANSPORTES-ENERGIA/PIB DO SETOR\": arquivos_nomes[6],\n",
    "    \"CONSUMO ESPECÍFICO DE ENERGIA EM SETORES SELECIONADOS\": arquivos_nomes[7],\n",
    "    \"PREÇOS MÉDIOS CORRENTES DE FONTES DE ENERGIA\": arquivos_nomes[8],\n",
    "    \"PREÇOS CORRENTES DE FONTES DE ENERGIA\": arquivos_nomes[9],\n",
    "    \"RELAÇÕES DE PREÇOS ENTRE AS FONTES DE ENERGIA\": arquivos_nomes[10],\n",
    "    \"GASTOS EM DIVISAS COM IMPORTAÇÃO DE PETRÓLEO\": arquivos_nomes[11]\n",
    "    }"
   ]
  }
 ],
 "metadata": {
  "language_info": {
   "name": "python"
  }
 },
 "nbformat": 4,
 "nbformat_minor": 2
}
