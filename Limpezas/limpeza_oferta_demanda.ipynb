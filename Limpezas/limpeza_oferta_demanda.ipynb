{
 "cells": [
  {
   "cell_type": "code",
   "execution_count": 9,
   "metadata": {},
   "outputs": [],
   "source": [
    "import pandas as pd\n",
    "import numpy as np"
   ]
  },
  {
   "cell_type": "markdown",
   "metadata": {},
   "source": [
    "# Separação das diferentes tabelas dentro da oferta e demanda"
   ]
  },
  {
   "cell_type": "code",
   "execution_count": 10,
   "metadata": {},
   "outputs": [],
   "source": [
    "dictd = {\n",
    "    'Fontes_Primárias': pd.read_excel('../databases/Dados EPE/Oferta e Demanda de Energia por Fonte.xlsx', header=1, usecols='A:BB', nrows=31).transpose(),\n",
    "    'Petróleo': pd.read_excel('../databases/Dados EPE/Oferta e Demanda de Energia por Fonte.xlsx', header=39, usecols='A:BB', nrows=6).transpose(),\n",
    "    'Gás_Natural': pd.read_excel('../databases/Dados EPE/Oferta e Demanda de Energia por Fonte.xlsx', header=56, usecols='A:BB', nrows=27).transpose(),\n",
    "    'Carvão_Vapor': pd.read_excel('../databases/Dados EPE/Oferta e Demanda de Energia por Fonte.xlsx', header=90, usecols='A:BB', nrows=22).transpose(),\n",
    "    'Carvão_Metalúrgico': pd.read_excel('../databases/Dados EPE/Oferta e Demanda de Energia por Fonte.xlsx', header=121, usecols='A:BB', nrows=134-122).transpose(),\n",
    "    'Energia_Eólica': pd.read_excel('../databases/Dados EPE/Oferta e Demanda de Energia por Fonte.xlsx', header=152, usecols='A:BB', nrows=2).transpose(),\n",
    "    'Energia_Solar_Fotovoltaica': pd.read_excel('../databases/Dados EPE/Oferta e Demanda de Energia por Fonte.xlsx', header=160, usecols='A:BB', nrows=2).transpose(),\n",
    "    'Energia_Solar_Térmica': pd.read_excel('../databases/Dados EPE/Oferta e Demanda de Energia por Fonte.xlsx', header=167, usecols='A:BB', nrows=174-168).transpose(),\n",
    "    'Urânio': pd.read_excel('../databases/Dados EPE/Oferta e Demanda de Energia por Fonte.xlsx', header=178, usecols='A:BB', nrows=5).transpose(),\n",
    "    'Lenha': pd.read_excel('../databases/Dados EPE/Oferta e Demanda de Energia por Fonte.xlsx', header=190, usecols='A:BB', nrows=216-190-1).transpose(),\n",
    "    'Caldo_de_Cana': pd.read_excel('../databases/Dados EPE/Oferta e Demanda de Energia por Fonte.xlsx', header=222, usecols='A:BB', nrows=3).transpose(),\n",
    "    'Melaço': pd.read_excel('../databases/Dados EPE/Oferta e Demanda de Energia por Fonte.xlsx', header=232, usecols='A:BB', nrows=3).transpose(),\n",
    "    'Bagaço_de_Cana': pd.read_excel('../databases/Dados EPE/Oferta e Demanda de Energia por Fonte.xlsx', header=242, usecols='A:BB', nrows=254-243).transpose(),\n",
    "    'Lixívia': pd.read_excel('../databases/Dados EPE/Oferta e Demanda de Energia por Fonte.xlsx', header=260, usecols='A:BB', nrows=8).transpose(),\n",
    "    'Outras_Fontes_Primárias': pd.read_excel('../databases/Dados EPE/Oferta e Demanda de Energia por Fonte.xlsx', header=274, usecols='A:BB', nrows=9).transpose(),\n",
    "    'Total_de_Fontes_Secundárias': pd.read_excel('../databases/Dados EPE/Oferta e Demanda de Energia por Fonte.xlsx', header=291, usecols='A:BB', nrows=324-291).transpose(),\n",
    "    'Derivados_de_Petróleo_e_Gás_Natural': pd.read_excel('../databases/Dados EPE/Oferta e Demanda de Energia por Fonte.xlsx', header=328, usecols='A:BB', nrows=361-328-1).transpose(),\n",
    "    'Óleo_Diesel_Total': pd.read_excel('../databases/Dados EPE/Oferta e Demanda de Energia por Fonte.xlsx', header=367, usecols='A:BB', nrows=394-367-1).transpose(),\n",
    "    'Diesel_de_Petróleo': pd.read_excel('../databases/Dados EPE/Oferta e Demanda de Energia por Fonte.xlsx', header=404, usecols='A:BB', nrows=431-404-1).transpose(),\n",
    "    'Biodiesel': pd.read_excel('../databases/Dados EPE/Oferta e Demanda de Energia por Fonte.xlsx', header=437, usecols='A:BB', nrows=13).transpose(),\n",
    "    'Óleo_Combustível': pd.read_excel('../databases/Dados EPE/Oferta e Demanda de Energia por Fonte.xlsx', header=472, usecols='A:BB', nrows=501-472-1).transpose(),\n",
    "    'Gasolina': pd.read_excel('../databases/Dados EPE/Oferta e Demanda de Energia por Fonte.xlsx', header=509, usecols='A:BB', nrows=520-509-1).transpose(),\n",
    "    'Gás_Liquefeito_de_Petróleo': pd.read_excel('../databases/Dados EPE/Oferta e Demanda de Energia por Fonte.xlsx', header=527, usecols='A:BB', nrows=551-527-1).transpose(),\n",
    "    'Nafta': pd.read_excel('../databases/Dados EPE/Oferta e Demanda de Energia por Fonte.xlsx', header=557, usecols='A:BB', nrows=571-557-1).transpose(),\n",
    "    'Coque_de_Carvão_Mineral': pd.read_excel('../databases/Dados EPE/Oferta e Demanda de Energia por Fonte.xlsx', header=579, usecols='A:BB', nrows=594-579).transpose(),\n",
    "    'Querosene': pd.read_excel('../databases/Dados EPE/Oferta e Demanda de Energia por Fonte.xlsx', header=598, usecols='A:BB', nrows=623-598-1).transpose(),\n",
    "    'Gás_de_Cidade': pd.read_excel('../databases/Dados EPE/Oferta e Demanda de Energia por Fonte.xlsx', header=629, usecols='A:BB', nrows=648-629).transpose(),\n",
    "    'Gás_de_Coqueria': pd.read_excel('../databases/Dados EPE/Oferta e Demanda de Energia por Fonte.xlsx', header=652, usecols='A:BB', nrows=662-652-1).transpose(),\n",
    "    'Eletricidade': pd.read_excel('../databases/Dados EPE/Oferta e Demanda de Energia por Fonte.xlsx', header=668, usecols='A:BB', nrows=697-668).transpose(),\n",
    "    'Carvão_Vegetal': pd.read_excel('../databases/Dados EPE/Oferta e Demanda de Energia por Fonte.xlsx', header=701, usecols='A:BB', nrows=723-701).transpose(),\n",
    "    'Álcool_Etílico_Total': pd.read_excel('../databases/Dados EPE/Oferta e Demanda de Energia por Fonte.xlsx', header=727, usecols='A:BB', nrows=739-727-1).transpose(),\n",
    "    'Álcool_Anidro': pd.read_excel('../databases/Dados EPE/Oferta e Demanda de Energia por Fonte.xlsx', header=747, usecols='A:BB', nrows=758-747).transpose(),\n",
    "    'Álcool_Hidratado': pd.read_excel('../databases/Dados EPE/Oferta e Demanda de Energia por Fonte.xlsx', header=762, usecols='A:BB', nrows=774-762-1).transpose(),\n",
    "    'Outras_Secundárias_de_Petróleo': pd.read_excel('../databases/Dados EPE/Oferta e Demanda de Energia por Fonte.xlsx', header=780, usecols='A:BB', nrows=800-780-1).transpose(),\n",
    "    'Alcatrão': pd.read_excel('../databases/Dados EPE/Oferta e Demanda de Energia por Fonte.xlsx', header=806, usecols='A:BB', nrows=818-807).transpose(),\n",
    "    'Produtos_não_Energéticos_de_Petróleo': pd.read_excel('../databases/Dados EPE/Oferta e Demanda de Energia por Fonte.xlsx', header=824, usecols='A:BB', nrows=833-824-1).transpose()\n",
    "}"
   ]
  },
  {
   "cell_type": "code",
   "execution_count": 11,
   "metadata": {},
   "outputs": [],
   "source": [
    "dict_oferta_demanda = {}\n",
    "for i in dictd:\n",
    "    df = dictd[i]\n",
    "\n",
    "    # Reseta os índices que estavam errados\n",
    "    df.reset_index(inplace=True)\n",
    "\n",
    "    # Troca os headers\n",
    "    headers = pd.Series([str(v).strip() for v in df.iloc[0].values])\n",
    "    headers[0] = 'ANO'\n",
    "    df.columns = headers\n",
    "    df.drop(index=0, axis=0, inplace=True)\n",
    "\n",
    "    # Reseta o indice para que 1970 seja 0\n",
    "    df.reset_index(drop=True, inplace=True)\n",
    "\n",
    "    dict_oferta_demanda[i] = df"
   ]
  },
  {
   "cell_type": "markdown",
   "metadata": {},
   "source": [
    "Depois disso, ainda existem dataframes com anos sem dados, mas é possível usar um índice em comum."
   ]
  }
 ],
 "metadata": {
  "kernelspec": {
   "display_name": "Python 3",
   "language": "python",
   "name": "python3"
  },
  "language_info": {
   "codemirror_mode": {
    "name": "ipython",
    "version": 3
   },
   "file_extension": ".py",
   "mimetype": "text/x-python",
   "name": "python",
   "nbconvert_exporter": "python",
   "pygments_lexer": "ipython3",
   "version": "3.11.3"
  }
 },
 "nbformat": 4,
 "nbformat_minor": 2
}
