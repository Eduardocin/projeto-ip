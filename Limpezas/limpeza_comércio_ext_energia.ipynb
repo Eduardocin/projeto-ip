{
  "cells": [
    {
      "cell_type": "code",
      "execution_count": 10,
      "metadata": {
        "id": "qBp_ig5tB3Nc"
      },
      "outputs": [],
      "source": [
        "import pandas as pd"
      ]
    },
    {
      "cell_type": "markdown",
      "metadata": {},
      "source": [
        "# IMPORTAÇÃO DA TABELA COMÉRCIO EXTERNO DE ENERGIA"
      ]
    },
    {
      "cell_type": "code",
      "execution_count": 11,
      "metadata": {
        "id": "h2yIfGpECM3s"
      },
      "outputs": [],
      "source": [
        "bigdf = pd.read_excel(\"../databases/Dados EPE/Comércio Externo de Energia.xlsx\", usecols='A:BB')"
      ]
    },
    {
      "cell_type": "markdown",
      "metadata": {},
      "source": [
        "# CRIAÇÃO DE UM DICIONÁRIO PARA ARMAZENAR MÚLTIPLOS DATAFRAMES\n"
      ]
    },
    {
      "cell_type": "code",
      "execution_count": 12,
      "metadata": {
        "id": "LI0F2aT4CjB2"
      },
      "outputs": [],
      "source": [
        "dict_a = {\n",
        "    'EVOLUÇÃO DA DEPENDÊNCIA EXTERNA DE ENERGIA': bigdf[1:11].transpose().reset_index(drop=True),\n",
        "    'EVOLUÇÃO DA DEPENDÊNCIA EXTERNA DE PETRÓLEO': bigdf[18:33].transpose().reset_index(drop=True),\n",
        "    'IMPORTAÇÕES DE ENERGIA' : bigdf[42:63].transpose().reset_index(drop=True),\n",
        "    'EVOLUÇÃO DAS EXPORTAÇÕES DE ENERGIA': bigdf[70:91].transpose().reset_index(drop=True),\n",
        "    'EVOLUÇÃO DAS EXPORTAÇÕES E/OU IMPORTAÇÕES LÍQUIDAS' : bigdf[96:115].transpose().reset_index(drop=True)\n",
        "    }\n",
        "\n",
        "\n"
      ]
    },
    {
      "cell_type": "markdown",
      "metadata": {},
      "source": [
        "# REALIZAÇÃO DA LIMPEZA PARA CADA DATAFRAME DENTRO DO DICIONÁRIO"
      ]
    },
    {
      "cell_type": "code",
      "execution_count": 13,
      "metadata": {
        "id": "w0Re03DGCsjX"
      },
      "outputs": [],
      "source": [
        "dict_comercio_externo = {}\n",
        "for i in dict_a:\n",
        "\n",
        "    #retirar colunas nulas\n",
        "    df = dict_a[i]\n",
        "    df.dropna(axis='columns', how='all', inplace=True)\n",
        "\n",
        "    #transformar a primeira linha em header\n",
        "    headers = [str(v).strip() for v in df.iloc[0].values]\n",
        "    headers[0] = 'ANO'\n",
        "    headers = pd.Series(headers)\n",
        "    df.columns = headers\n",
        "    df.drop(index=0, axis=0, inplace=True)\n",
        "\n",
        "    #transformar a primeira coluna em inteiro\n",
        "    df['ANO'] = df['ANO'].map(lambda x: int(x))\n",
        "\n",
        "dict_comercio_externo = dict_a"
      ]
    },
    {
      "cell_type": "code",
      "execution_count": 19,
      "metadata": {},
      "outputs": [
        {
          "name": "stdout",
          "output_type": "stream",
          "text": [
            "<class 'pandas.core.frame.DataFrame'>\n",
            "RangeIndex: 53 entries, 1 to 53\n",
            "Data columns (total 21 columns):\n",
            " #   Column                          Non-Null Count  Dtype \n",
            "---  ------                          --------------  ----- \n",
            " 0   ANO                             53 non-null     int64 \n",
            " 1   PETRÓLEO                        53 non-null     object\n",
            " 2   GÁS NATURAL                     53 non-null     object\n",
            " 3   CARVÃO METALÚRGICO / VAPOR      53 non-null     object\n",
            " 4   COQUE DE CARVÃO MINERAL         53 non-null     object\n",
            " 5   URÂNIO                          53 non-null     object\n",
            " 6   ELETRICIDADE                    53 non-null     object\n",
            " 7   ÁLCOOL ETÍLICO1                 53 non-null     object\n",
            " 8   LENHA / CARVÃO VEGETAL          53 non-null     object\n",
            " 9   SUBTOTAL DERIVADOS DE PETRÓLEO  53 non-null     object\n",
            " 10  ÓLEO DIESEL                     53 non-null     object\n",
            " 11  ÓLEO COMBUSTÍVEL                53 non-null     object\n",
            " 12  GASOLINA                        53 non-null     object\n",
            " 13  GASOLINA AUTOMOTIVA             53 non-null     object\n",
            " 14  GASOLINA DE AVIAÇÃO             53 non-null     object\n",
            " 15  GÁS LIQUEFEITO DE PETRÓLEO      53 non-null     object\n",
            " 16  NAFTA                           53 non-null     object\n",
            " 17  QUEROSENE                       53 non-null     object\n",
            " 18  OUTRAS SECUNDÁRIAS DE PETRÓLEO  53 non-null     object\n",
            " 19  PRODUTOS NÃO-ENERG.DE PETRÓLEO  53 non-null     object\n",
            " 20  TOTAL                           53 non-null     object\n",
            "dtypes: int64(1), object(20)\n",
            "memory usage: 8.8+ KB\n"
          ]
        }
      ],
      "source": [
        "dict_comercio_externo['IMPORTAÇÕES DE ENERGIA']"
      ]
    },
    {
      "cell_type": "code",
      "execution_count": null,
      "metadata": {
        "colab": {
          "base_uri": "https://localhost:8080/",
          "height": 1000
        },
        "id": "Y4ZzYpB2__OA",
        "outputId": "e1ef1635-021e-4afb-ac5e-607b9088fd18"
      },
      "outputs": [
        {
          "data": {
            "text/plain": [
              "<Axes: >"
            ]
          },
          "execution_count": 27,
          "metadata": {},
          "output_type": "execute_result"
        },
        {
          "data": {
            "image/png": "[encoded data removed]",
            "text/plain": [
              "<Figure size 640x480 with 1 Axes>"
            ]
          },
          "metadata": {},
          "output_type": "display_data"
        }
      ],
      "source": [
        "# dict_a['IMPORTAÇÕES DE ENERGIA'][\"PETRÓLEO\"].hist(bins=30)"
      ]
    }
  ],
  "metadata": {
    "colab": {
      "provenance": []
    },
    "kernelspec": {
      "display_name": "Python 3",
      "name": "python3"
    },
    "language_info": {
      "codemirror_mode": {
        "name": "ipython",
        "version": 3
      },
      "file_extension": ".py",
      "mimetype": "text/x-python",
      "name": "python",
      "nbconvert_exporter": "python",
      "pygments_lexer": "ipython3",
      "version": "3.11.0"
    }
  },
  "nbformat": 4,
  "nbformat_minor": 0
}
