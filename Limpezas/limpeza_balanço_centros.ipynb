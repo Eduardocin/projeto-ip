{
 "cells": [
  {
   "cell_type": "markdown",
   "metadata": {},
   "source": [
    "# Limpeza Balanço dos Centros de Transformação"
   ]
  },
  {
   "cell_type": "code",
   "execution_count": 33,
   "metadata": {},
   "outputs": [],
   "source": [
    "import pandas as pd\n",
    "\n",
    "bigtable = pd.read_excel(io='../databases/Dados EPE/Balanço dos Centros de Transformação.xlsx', usecols='A:BB')\n",
    "\n",
    "dict_balanços = {\n",
    "    \"REFINARIAS DE PETRÓLEO\": bigtable[1:15],\n",
    "    \"UNIDADES DE PROCESSAMENTO DE GÁS NATURAL\": bigtable[21:30],\n",
    "    \"CENTRAIS ELÉTRICAS - TOTAL (SERVIÇO PÚBLICO + AUTOPRODUÇÃO)\": bigtable[35:79],\n",
    "    \"CENTRAIS ELÉTRICAS DE SERVIÇO PÚBLICO (SP)\": bigtable[83:119],\n",
    "    \"CENTRAIS ELÉTRICAS AUTOPRODUTORAS (APE)\": bigtable[123:165],\n",
    "    \"AUTOPRODUÇÃO NÃO INJETADA NA REDE\": bigtable[170:212],\n",
    "    \"MICRO E MINI GERAÇÃO DISTRIBUIDA\": bigtable[217:257],\n",
    "    \"COQUERIAS\": bigtable[261:271]\n",
    "}\n",
    "\n",
    "for df in tuple(dict_balanços.keys()):\n",
    "    dict_balanços[df] = dict_balanços[df].transpose().reset_index(drop=True)\n",
    "    new_header = dict_balanços[df].iloc[0]\n",
    "    dict_balanços[df] = dict_balanços[df][1:]\n",
    "    dict_balanços[df].columns = new_header\n",
    "    dict_balanços[df].columns.values[0] = 'ANO'\n",
    "    dict_balanços[df]['ANO'] = dict_balanços[df]['ANO'].map(lambda x: int(x))\n",
    "    dict_balanços[df].dropna(axis='columns', how='all', inplace=True)\n",
    "    dict_balanços[df].reset_index(drop=True, inplace=True)\n"
   ]
  },
  {
   "cell_type": "markdown",
   "metadata": {},
   "source": [
    "Corrigindo tabelas com 0s isolados nos anos"
   ]
  },
  {
   "cell_type": "code",
   "execution_count": 34,
   "metadata": {},
   "outputs": [
    {
     "name": "stdout",
     "output_type": "stream",
     "text": [
      "0\n",
      "2014\n"
     ]
    }
   ],
   "source": [
    "i = -1 \n",
    "for df in list(dict_balanços.values()):\n",
    "    anos = df[\"ANO\"].to_list()\n",
    "    i += 1\n",
    "    if 0 in anos:\n",
    "        endereço = anos.index(0) \n",
    "        df.iloc[endereço, 0] = int((df.iloc[endereço + 1, 0] + df.iloc[endereço - 1, 0])/2)\n",
    "    "
   ]
  },
  {
   "cell_type": "code",
   "execution_count": null,
   "metadata": {},
   "outputs": [],
   "source": []
  }
 ],
 "metadata": {
  "kernelspec": {
   "display_name": "ds_venv",
   "language": "python",
   "name": "python3"
  },
  "language_info": {
   "codemirror_mode": {
    "name": "ipython",
    "version": 3
   },
   "file_extension": ".py",
   "mimetype": "text/x-python",
   "name": "python",
   "nbconvert_exporter": "python",
   "pygments_lexer": "ipython3",
   "version": "3.11.3"
  }
 },
 "nbformat": 4,
 "nbformat_minor": 2
}
