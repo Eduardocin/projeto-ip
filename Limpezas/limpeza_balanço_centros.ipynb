{
 "cells": [
  {
   "cell_type": "markdown",
   "metadata": {},
   "source": [
    "# Limpeza Balanço dos Centros de Transformação"
   ]
  },
  {
   "cell_type": "code",
   "execution_count": null,
   "metadata": {},
   "outputs": [
    {
     "ename": "TypeError",
     "evalue": "unbound method dict.keys() needs an argument",
     "output_type": "error",
     "traceback": [
      "\u001b[1;31m---------------------------------------------------------------------------\u001b[0m",
      "\u001b[1;31mTypeError\u001b[0m                                 Traceback (most recent call last)",
      "\u001b[1;32md:\\Users\\tcl\\repos\\projeto-ip\\Limpezas\\limpeza_balanço_centros.ipynb Cell 2\u001b[0m line \u001b[0;36m1\n\u001b[0;32m      <a href='vscode-notebook-cell:/d%3A/Users/tcl/repos/projeto-ip/Limpezas/limpeza_balan%C3%A7o_centros.ipynb#W1sZmlsZQ%3D%3D?line=2'>3</a>\u001b[0m bigtable \u001b[39m=\u001b[39m pd\u001b[39m.\u001b[39mread_excel(io\u001b[39m=\u001b[39m\u001b[39m'\u001b[39m\u001b[39mD:/Users/tcl/repos/projeto-ip/databases/Dados EPE/Balanço dos Centros de Transformação.xlsx\u001b[39m\u001b[39m'\u001b[39m, usecols\u001b[39m=\u001b[39m\u001b[39m'\u001b[39m\u001b[39mA:BB\u001b[39m\u001b[39m'\u001b[39m)\n\u001b[0;32m      <a href='vscode-notebook-cell:/d%3A/Users/tcl/repos/projeto-ip/Limpezas/limpeza_balan%C3%A7o_centros.ipynb#W1sZmlsZQ%3D%3D?line=4'>5</a>\u001b[0m dict_balanços \u001b[39m=\u001b[39m {\n\u001b[0;32m      <a href='vscode-notebook-cell:/d%3A/Users/tcl/repos/projeto-ip/Limpezas/limpeza_balan%C3%A7o_centros.ipynb#W1sZmlsZQ%3D%3D?line=5'>6</a>\u001b[0m     \u001b[39m\"\u001b[39m\u001b[39mREFINARIAS DE PETRÓLEO\u001b[39m\u001b[39m\"\u001b[39m: bigtable[\u001b[39m1\u001b[39m:\u001b[39m15\u001b[39m],\n\u001b[0;32m      <a href='vscode-notebook-cell:/d%3A/Users/tcl/repos/projeto-ip/Limpezas/limpeza_balan%C3%A7o_centros.ipynb#W1sZmlsZQ%3D%3D?line=6'>7</a>\u001b[0m     \u001b[39m\"\u001b[39m\u001b[39mUNIDADES DE PROCESSAMENTO DE GÁS NATURAL\u001b[39m\u001b[39m\"\u001b[39m: bigtable[\u001b[39m21\u001b[39m:\u001b[39m30\u001b[39m],\n\u001b[1;32m   (...)\u001b[0m\n\u001b[0;32m     <a href='vscode-notebook-cell:/d%3A/Users/tcl/repos/projeto-ip/Limpezas/limpeza_balan%C3%A7o_centros.ipynb#W1sZmlsZQ%3D%3D?line=12'>13</a>\u001b[0m     \u001b[39m\"\u001b[39m\u001b[39mCOQUERIAS\u001b[39m\u001b[39m\"\u001b[39m: bigtable[\u001b[39m261\u001b[39m:\u001b[39m271\u001b[39m]\n\u001b[0;32m     <a href='vscode-notebook-cell:/d%3A/Users/tcl/repos/projeto-ip/Limpezas/limpeza_balan%C3%A7o_centros.ipynb#W1sZmlsZQ%3D%3D?line=13'>14</a>\u001b[0m }\n\u001b[1;32m---> <a href='vscode-notebook-cell:/d%3A/Users/tcl/repos/projeto-ip/Limpezas/limpeza_balan%C3%A7o_centros.ipynb#W1sZmlsZQ%3D%3D?line=15'>16</a>\u001b[0m \u001b[39mfor\u001b[39;00m df \u001b[39min\u001b[39;00m \u001b[39mtuple\u001b[39m(\u001b[39mdict\u001b[39;49m\u001b[39m.\u001b[39;49mkeys()):\n\u001b[0;32m     <a href='vscode-notebook-cell:/d%3A/Users/tcl/repos/projeto-ip/Limpezas/limpeza_balan%C3%A7o_centros.ipynb#W1sZmlsZQ%3D%3D?line=16'>17</a>\u001b[0m     dict_balanços[df] \u001b[39m=\u001b[39m dict_balanços[df]\u001b[39m.\u001b[39mtranspose()\u001b[39m.\u001b[39mreset_index(drop\u001b[39m=\u001b[39m\u001b[39mTrue\u001b[39;00m)\n\u001b[0;32m     <a href='vscode-notebook-cell:/d%3A/Users/tcl/repos/projeto-ip/Limpezas/limpeza_balan%C3%A7o_centros.ipynb#W1sZmlsZQ%3D%3D?line=17'>18</a>\u001b[0m     new_header \u001b[39m=\u001b[39m dict_balanços[df]\u001b[39m.\u001b[39miloc[\u001b[39m0\u001b[39m]\n",
      "\u001b[1;31mTypeError\u001b[0m: unbound method dict.keys() needs an argument"
     ]
    }
   ],
   "source": [
    "import pandas as pd\n",
    "\n",
    "bigtable = pd.read_excel(io='../databases/Dados EPE/Balanço dos Centros de Transformação.xlsx', usecols='A:BB')\n",
    "\n",
    "dict_balanços = {\n",
    "    \"REFINARIAS DE PETRÓLEO\": bigtable[1:15],\n",
    "    \"UNIDADES DE PROCESSAMENTO DE GÁS NATURAL\": bigtable[21:30],\n",
    "    \"CENTRAIS ELÉTRICAS - TOTAL (SERVIÇO PÚBLICO + AUTOPRODUÇÃO)\": bigtable[35:79],\n",
    "    \"CENTRAIS ELÉTRICAS DE SERVIÇO PÚBLICO (SP)\": bigtable[83:119],\n",
    "    \"CENTRAIS ELÉTRICAS AUTOPRODUTORAS (APE)\": bigtable[123:165],\n",
    "    \"AUTOPRODUÇÃO NÃO INJETADA NA REDE\": bigtable[170:212],\n",
    "    \"MICRO E MINI GERAÇÃO DISTRIBUIDA\": bigtable[217:257],\n",
    "    \"COQUERIAS\": bigtable[261:271]\n",
    "}\n",
    "\n",
    "for df in tuple(dict_balanços.keys()):\n",
    "    dict_balanços[df] = dict_balanços[df].transpose().reset_index(drop=True)\n",
    "    new_header = dict_balanços[df].iloc[0]\n",
    "    dict_balanços[df] = dict_balanços[df][1:]\n",
    "    dict_balanços[df].columns = new_header\n",
    "    dict_balanços[df].columns.values[0] = 'ANO'\n",
    "    dict_balanços[df]['ANO'] = dict_balanços[df]['ANO'].map(lambda x: int(x))\n",
    "    dict_balanços[df].dropna(axis='columns', how='all', inplace=True)\n"
   ]
  }
 ],
 "metadata": {
  "kernelspec": {
   "display_name": "ds_venv",
   "language": "python",
   "name": "python3"
  },
  "language_info": {
   "codemirror_mode": {
    "name": "ipython",
    "version": 3
   },
   "file_extension": ".py",
   "mimetype": "text/x-python",
   "name": "python",
   "nbconvert_exporter": "python",
   "pygments_lexer": "ipython3",
   "version": "3.11.0"
  }
 },
 "nbformat": 4,
 "nbformat_minor": 2
}
