{
 "cells": [
  {
   "cell_type": "markdown",
   "metadata": {},
   "source": [
    "# Limpeza Balanço dos Centros de Transformação"
   ]
  },
  {
   "cell_type": "code",
   "execution_count": 12,
   "metadata": {},
   "outputs": [
    {
     "ename": "ValueError",
     "evalue": "cannot convert float NaN to integer",
     "output_type": "error",
     "traceback": [
      "\u001b[1;31m---------------------------------------------------------------------------\u001b[0m",
      "\u001b[1;31mValueError\u001b[0m                                Traceback (most recent call last)",
      "\u001b[1;32md:\\Users\\tcl\\repos\\projeto-ip\\Limpezas\\limpeza_balanço_centros.ipynb Cell 2\u001b[0m line \u001b[0;36m2\n\u001b[0;32m     <a href='vscode-notebook-cell:/d%3A/Users/tcl/repos/projeto-ip/Limpezas/limpeza_balan%C3%A7o_centros.ipynb#W4sZmlsZQ%3D%3D?line=19'>20</a>\u001b[0m \u001b[39mdict\u001b[39m[df]\u001b[39m.\u001b[39mcolumns \u001b[39m=\u001b[39m new_header\n\u001b[0;32m     <a href='vscode-notebook-cell:/d%3A/Users/tcl/repos/projeto-ip/Limpezas/limpeza_balan%C3%A7o_centros.ipynb#W4sZmlsZQ%3D%3D?line=20'>21</a>\u001b[0m \u001b[39mdict\u001b[39m[df]\u001b[39m.\u001b[39mcolumns\u001b[39m.\u001b[39mvalues[\u001b[39m0\u001b[39m] \u001b[39m=\u001b[39m \u001b[39m'\u001b[39m\u001b[39mANO\u001b[39m\u001b[39m'\u001b[39m\n\u001b[1;32m---> <a href='vscode-notebook-cell:/d%3A/Users/tcl/repos/projeto-ip/Limpezas/limpeza_balan%C3%A7o_centros.ipynb#W4sZmlsZQ%3D%3D?line=21'>22</a>\u001b[0m \u001b[39mdict\u001b[39m[df][\u001b[39m'\u001b[39m\u001b[39mANO\u001b[39m\u001b[39m'\u001b[39m] \u001b[39m=\u001b[39m \u001b[39mdict\u001b[39;49m[df][\u001b[39m'\u001b[39;49m\u001b[39mANO\u001b[39;49m\u001b[39m'\u001b[39;49m]\u001b[39m.\u001b[39;49mmap(\u001b[39mlambda\u001b[39;49;00m x: \u001b[39mint\u001b[39;49m(x))\n\u001b[0;32m     <a href='vscode-notebook-cell:/d%3A/Users/tcl/repos/projeto-ip/Limpezas/limpeza_balan%C3%A7o_centros.ipynb#W4sZmlsZQ%3D%3D?line=22'>23</a>\u001b[0m \u001b[39mdict\u001b[39m[df]\u001b[39m.\u001b[39mdropna(axis\u001b[39m=\u001b[39m\u001b[39m'\u001b[39m\u001b[39mcolumns\u001b[39m\u001b[39m'\u001b[39m, how\u001b[39m=\u001b[39m\u001b[39m'\u001b[39m\u001b[39mall\u001b[39m\u001b[39m'\u001b[39m, inplace\u001b[39m=\u001b[39m\u001b[39mTrue\u001b[39;00m)\n",
      "File \u001b[1;32md:\\Users\\tcl\\venvs\\ds_venv\\Lib\\site-packages\\pandas\\core\\series.py:4691\u001b[0m, in \u001b[0;36mSeries.map\u001b[1;34m(self, arg, na_action)\u001b[0m\n\u001b[0;32m   4611\u001b[0m \u001b[39mdef\u001b[39;00m \u001b[39mmap\u001b[39m(\n\u001b[0;32m   4612\u001b[0m     \u001b[39mself\u001b[39m,\n\u001b[0;32m   4613\u001b[0m     arg: Callable \u001b[39m|\u001b[39m Mapping \u001b[39m|\u001b[39m Series,\n\u001b[0;32m   4614\u001b[0m     na_action: Literal[\u001b[39m\"\u001b[39m\u001b[39mignore\u001b[39m\u001b[39m\"\u001b[39m] \u001b[39m|\u001b[39m \u001b[39mNone\u001b[39;00m \u001b[39m=\u001b[39m \u001b[39mNone\u001b[39;00m,\n\u001b[0;32m   4615\u001b[0m ) \u001b[39m-\u001b[39m\u001b[39m>\u001b[39m Series:\n\u001b[0;32m   4616\u001b[0m \u001b[39m    \u001b[39m\u001b[39m\"\"\"\u001b[39;00m\n\u001b[0;32m   4617\u001b[0m \u001b[39m    Map values of Series according to an input mapping or function.\u001b[39;00m\n\u001b[0;32m   4618\u001b[0m \n\u001b[1;32m   (...)\u001b[0m\n\u001b[0;32m   4689\u001b[0m \u001b[39m    dtype: object\u001b[39;00m\n\u001b[0;32m   4690\u001b[0m \u001b[39m    \"\"\"\u001b[39;00m\n\u001b[1;32m-> 4691\u001b[0m     new_values \u001b[39m=\u001b[39m \u001b[39mself\u001b[39;49m\u001b[39m.\u001b[39;49m_map_values(arg, na_action\u001b[39m=\u001b[39;49mna_action)\n\u001b[0;32m   4692\u001b[0m     \u001b[39mreturn\u001b[39;00m \u001b[39mself\u001b[39m\u001b[39m.\u001b[39m_constructor(new_values, index\u001b[39m=\u001b[39m\u001b[39mself\u001b[39m\u001b[39m.\u001b[39mindex, copy\u001b[39m=\u001b[39m\u001b[39mFalse\u001b[39;00m)\u001b[39m.\u001b[39m__finalize__(\n\u001b[0;32m   4693\u001b[0m         \u001b[39mself\u001b[39m, method\u001b[39m=\u001b[39m\u001b[39m\"\u001b[39m\u001b[39mmap\u001b[39m\u001b[39m\"\u001b[39m\n\u001b[0;32m   4694\u001b[0m     )\n",
      "File \u001b[1;32md:\\Users\\tcl\\venvs\\ds_venv\\Lib\\site-packages\\pandas\\core\\base.py:921\u001b[0m, in \u001b[0;36mIndexOpsMixin._map_values\u001b[1;34m(self, mapper, na_action, convert)\u001b[0m\n\u001b[0;32m    918\u001b[0m \u001b[39mif\u001b[39;00m \u001b[39misinstance\u001b[39m(arr, ExtensionArray):\n\u001b[0;32m    919\u001b[0m     \u001b[39mreturn\u001b[39;00m arr\u001b[39m.\u001b[39mmap(mapper, na_action\u001b[39m=\u001b[39mna_action)\n\u001b[1;32m--> 921\u001b[0m \u001b[39mreturn\u001b[39;00m algorithms\u001b[39m.\u001b[39;49mmap_array(arr, mapper, na_action\u001b[39m=\u001b[39;49mna_action, convert\u001b[39m=\u001b[39;49mconvert)\n",
      "File \u001b[1;32md:\\Users\\tcl\\venvs\\ds_venv\\Lib\\site-packages\\pandas\\core\\algorithms.py:1743\u001b[0m, in \u001b[0;36mmap_array\u001b[1;34m(arr, mapper, na_action, convert)\u001b[0m\n\u001b[0;32m   1741\u001b[0m values \u001b[39m=\u001b[39m arr\u001b[39m.\u001b[39mastype(\u001b[39mobject\u001b[39m, copy\u001b[39m=\u001b[39m\u001b[39mFalse\u001b[39;00m)\n\u001b[0;32m   1742\u001b[0m \u001b[39mif\u001b[39;00m na_action \u001b[39mis\u001b[39;00m \u001b[39mNone\u001b[39;00m:\n\u001b[1;32m-> 1743\u001b[0m     \u001b[39mreturn\u001b[39;00m lib\u001b[39m.\u001b[39;49mmap_infer(values, mapper, convert\u001b[39m=\u001b[39;49mconvert)\n\u001b[0;32m   1744\u001b[0m \u001b[39melse\u001b[39;00m:\n\u001b[0;32m   1745\u001b[0m     \u001b[39mreturn\u001b[39;00m lib\u001b[39m.\u001b[39mmap_infer_mask(\n\u001b[0;32m   1746\u001b[0m         values, mapper, mask\u001b[39m=\u001b[39misna(values)\u001b[39m.\u001b[39mview(np\u001b[39m.\u001b[39muint8), convert\u001b[39m=\u001b[39mconvert\n\u001b[0;32m   1747\u001b[0m     )\n",
      "File \u001b[1;32mlib.pyx:2972\u001b[0m, in \u001b[0;36mpandas._libs.lib.map_infer\u001b[1;34m()\u001b[0m\n",
      "\u001b[1;32md:\\Users\\tcl\\repos\\projeto-ip\\Limpezas\\limpeza_balanço_centros.ipynb Cell 2\u001b[0m line \u001b[0;36m2\n\u001b[0;32m     <a href='vscode-notebook-cell:/d%3A/Users/tcl/repos/projeto-ip/Limpezas/limpeza_balan%C3%A7o_centros.ipynb#W4sZmlsZQ%3D%3D?line=19'>20</a>\u001b[0m \u001b[39mdict\u001b[39m[df]\u001b[39m.\u001b[39mcolumns \u001b[39m=\u001b[39m new_header\n\u001b[0;32m     <a href='vscode-notebook-cell:/d%3A/Users/tcl/repos/projeto-ip/Limpezas/limpeza_balan%C3%A7o_centros.ipynb#W4sZmlsZQ%3D%3D?line=20'>21</a>\u001b[0m \u001b[39mdict\u001b[39m[df]\u001b[39m.\u001b[39mcolumns\u001b[39m.\u001b[39mvalues[\u001b[39m0\u001b[39m] \u001b[39m=\u001b[39m \u001b[39m'\u001b[39m\u001b[39mANO\u001b[39m\u001b[39m'\u001b[39m\n\u001b[1;32m---> <a href='vscode-notebook-cell:/d%3A/Users/tcl/repos/projeto-ip/Limpezas/limpeza_balan%C3%A7o_centros.ipynb#W4sZmlsZQ%3D%3D?line=21'>22</a>\u001b[0m \u001b[39mdict\u001b[39m[df][\u001b[39m'\u001b[39m\u001b[39mANO\u001b[39m\u001b[39m'\u001b[39m] \u001b[39m=\u001b[39m \u001b[39mdict\u001b[39m[df][\u001b[39m'\u001b[39m\u001b[39mANO\u001b[39m\u001b[39m'\u001b[39m]\u001b[39m.\u001b[39mmap(\u001b[39mlambda\u001b[39;00m x: \u001b[39mint\u001b[39;49m(x))\n\u001b[0;32m     <a href='vscode-notebook-cell:/d%3A/Users/tcl/repos/projeto-ip/Limpezas/limpeza_balan%C3%A7o_centros.ipynb#W4sZmlsZQ%3D%3D?line=22'>23</a>\u001b[0m \u001b[39mdict\u001b[39m[df]\u001b[39m.\u001b[39mdropna(axis\u001b[39m=\u001b[39m\u001b[39m'\u001b[39m\u001b[39mcolumns\u001b[39m\u001b[39m'\u001b[39m, how\u001b[39m=\u001b[39m\u001b[39m'\u001b[39m\u001b[39mall\u001b[39m\u001b[39m'\u001b[39m, inplace\u001b[39m=\u001b[39m\u001b[39mTrue\u001b[39;00m)\n",
      "\u001b[1;31mValueError\u001b[0m: cannot convert float NaN to integer"
     ]
    }
   ],
   "source": [
    "import pandas as pd\n",
    "\n",
    "bigtable = pd.read_excel(io='D:/Users/tcl/repos/projeto-ip/databases/Dados EPE/Balanço dos Centros de Transformação.xlsx', usecols='A:BB')\n",
    "\n",
    "dict_balanços = {\n",
    "    \"REFINARIAS DE PETRÓLEO\": bigtable[1:15],\n",
    "    \"UNIDADES DE PROCESSAMENTO DE GÁS NATURAL\": bigtable[21:30],\n",
    "    \"CENTRAIS ELÉTRICAS - TOTAL (SERVIÇO PÚBLICO + AUTOPRODUÇÃO)\": bigtable[35:79],\n",
    "    \"CENTRAIS ELÉTRICAS DE SERVIÇO PÚBLICO (SP)\": bigtable[83:119],\n",
    "    \"CENTRAIS ELÉTRICAS AUTOPRODUTORAS (APE)\": bigtable[123:165],\n",
    "    \"AUTOPRODUÇÃO NÃO INJETADA NA REDE\": bigtable[170:212],\n",
    "    \"MICRO E MINI GERAÇÃO DISTRIBUIDA\": bigtable[217:257],\n",
    "    \"COQUERIAS\": bigtable[261:271]\n",
    "}\n",
    "\n",
    "for df in tuple(dict.keys()):\n",
    "    dict[df] = dict[df].transpose().reset_index(drop=True)\n",
    "    new_header = dict[df].iloc[0]\n",
    "    dict[df] = dict[df][1:]\n",
    "    dict[df].columns = new_header\n",
    "    dict[df].columns.values[0] = 'ANO'\n",
    "    dict[df]['ANO'] = dict[df]['ANO'].map(lambda x: int(x))\n",
    "    dict[df].dropna(axis='columns', how='all', inplace=True)\n"
   ]
  }
 ],
 "metadata": {
  "kernelspec": {
   "display_name": "ds_venv",
   "language": "python",
   "name": "python3"
  },
  "language_info": {
   "codemirror_mode": {
    "name": "ipython",
    "version": 3
   },
   "file_extension": ".py",
   "mimetype": "text/x-python",
   "name": "python",
   "nbconvert_exporter": "python",
   "pygments_lexer": "ipython3",
   "version": "3.11.0"
  }
 },
 "nbformat": 4,
 "nbformat_minor": 2
}
