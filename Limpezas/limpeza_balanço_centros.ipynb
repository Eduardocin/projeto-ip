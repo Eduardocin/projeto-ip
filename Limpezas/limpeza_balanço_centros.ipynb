{
 "cells": [
  {
   "cell_type": "markdown",
   "metadata": {},
   "source": [
    "# Limpeza Balanço dos Centros de Transformação"
   ]
  },
  {
   "cell_type": "code",
   "execution_count": null,
   "metadata": {},
   "outputs": [],
   "source": [
    "import pandas as pd\n",
    "\n",
    "bigtable = pd.read_excel(io='D:\\Users\\tcl\\repos\\projeto-ip\\databases\\Dados EPE\\Balanço dos Centros de Transformação.xlsx', usecols='A:BB')\n",
    "\n",
    "dict = {\n",
    "    \"REFINARIAS DE PETRÓLEO\": bigtable[1:15].transpose().reset_index(drop=True)\n",
    "}\n",
    "\n",
    "dict['REFINARIAS DE PETRÓLEO']"
   ]
  },
  {
   "cell_type": "markdown",
   "metadata": {},
   "source": []
  },
  {
   "cell_type": "markdown",
   "metadata": {},
   "source": []
  }
 ],
 "metadata": {
  "kernelspec": {
   "display_name": "ds_venv",
   "language": "python",
   "name": "python3"
  },
  "language_info": {
   "name": "python",
   "version": "3.11.0"
  }
 },
 "nbformat": 4,
 "nbformat_minor": 2
}
