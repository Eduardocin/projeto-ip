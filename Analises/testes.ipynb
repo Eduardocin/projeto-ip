{
 "cells": [
  {
   "cell_type": "code",
   "execution_count": 1,
   "metadata": {},
   "outputs": [],
   "source": [
    "import pandas as pd\n",
    "import numpy as np\n",
    "import matplotlib.pyplot as plt\n",
    "import seaborn as sns\n",
    "import nbformat\n",
    "from multidata import *"
   ]
  },
  {
   "cell_type": "code",
   "execution_count": 2,
   "metadata": {},
   "outputs": [],
   "source": [
    "%run ../Limpezas/limpeza_oferta_demanda.ipynb\n",
    "%run ../Limpezas/limpeza_análise_energética.ipynb\n",
    "%run ../Limpezas/limpeza_socioeconomia.ipynb"
   ]
  },
  {
   "cell_type": "code",
   "execution_count": 3,
   "metadata": {},
   "outputs": [],
   "source": [
    "eletr = dict_oferta_demanda['Eletricidade']\n",
    "prima = dict_analise_energetica['Produção_de_Energia_Primária']\n",
    "oftin = dict_analise_energetica['Oferta_Interna_de_Energia']"
   ]
  },
  {
   "cell_type": "code",
   "execution_count": 4,
   "metadata": {},
   "outputs": [
    {
     "name": "stdout",
     "output_type": "stream",
     "text": [
      "Produção_de_Energia_Primária | Produção_de_Energia_Primária_% | Oferta_Interna_de_Energia | Oferta_Interna_de_Energia_% | Consumo_Final_por_Fonte | Consumo_Final_por_Fonte_% | Consumo_Final_por_Setor | Consumo_Final_por_Setor_% | Consumo_Final_Energético_por_Fonte | Consumo_Final_não_Energético_por_Fonte | Dependência_Externa_de_Energia | Composição_Setorial_do_Consumo_de_Derivados_de_Petróleo | Composição_Setorial_do_Consumo_de_Eletricidade | Composição_Setorial_do_Consumo_de_Carvão_Vapor | Composição_Setorial_do_Consumo_Final_de_Biomassa\n"
     ]
    },
    {
     "ename": "AttributeError",
     "evalue": "'MultiData' object has no attribute 'autoplot'",
     "output_type": "error",
     "traceback": [
      "\u001b[1;31m---------------------------------------------------------------------------\u001b[0m",
      "\u001b[1;31mAttributeError\u001b[0m                            Traceback (most recent call last)",
      "\u001b[1;32md:\\Users\\afp2\\projeto-ip\\Analises\\testes.ipynb Cell 4\u001b[0m line \u001b[0;36m3\n\u001b[0;32m      <a href='vscode-notebook-cell:/d%3A/Users/afp2/projeto-ip/Analises/testes.ipynb#Y114sZmlsZQ%3D%3D?line=0'>1</a>\u001b[0m e \u001b[39m=\u001b[39m MultiData(dict_analise_energetica)\n\u001b[0;32m      <a href='vscode-notebook-cell:/d%3A/Users/afp2/projeto-ip/Analises/testes.ipynb#Y114sZmlsZQ%3D%3D?line=1'>2</a>\u001b[0m \u001b[39mprint\u001b[39m(e)\n\u001b[1;32m----> <a href='vscode-notebook-cell:/d%3A/Users/afp2/projeto-ip/Analises/testes.ipynb#Y114sZmlsZQ%3D%3D?line=2'>3</a>\u001b[0m e\u001b[39m.\u001b[39;49mautoplot(\u001b[39m14\u001b[39m, n\u001b[39m=\u001b[39m\u001b[39m10\u001b[39m)\n",
      "\u001b[1;31mAttributeError\u001b[0m: 'MultiData' object has no attribute 'autoplot'"
     ]
    }
   ],
   "source": [
    "e = MultiData(dict_analise_energetica)\n",
    "print(e)\n",
    "e.autoplot(14, n=10)"
   ]
  },
  {
   "cell_type": "code",
   "execution_count": null,
   "metadata": {},
   "outputs": [],
   "source": [
    "e.projection_var(2022, [(0, 'RENOVÁVEL'), (0, 'PETRÓLEO')])"
   ]
  },
  {
   "cell_type": "code",
   "execution_count": null,
   "metadata": {},
   "outputs": [],
   "source": [
    "e.autoplot(5)"
   ]
  },
  {
   "cell_type": "code",
   "execution_count": null,
   "metadata": {},
   "outputs": [],
   "source": [
    "e.autoplot(10)"
   ]
  },
  {
   "cell_type": "code",
   "execution_count": null,
   "metadata": {},
   "outputs": [],
   "source": [
    "e.autoplot(14)"
   ]
  },
  {
   "cell_type": "code",
   "execution_count": null,
   "metadata": {},
   "outputs": [],
   "source": [
    "plt.matshow(dict_oferta_demanda['Urânio'].corr())\n",
    "plt.show()"
   ]
  },
  {
   "cell_type": "code",
   "execution_count": null,
   "metadata": {},
   "outputs": [],
   "source": [
    "A = e.Projection.VAR(last_year_projected=2000, columns=[(0, 'PETRÓLEO'), (0, 'NÃO RENOVÁVEL')])\n",
    "\n"
   ]
  }
 ],
 "metadata": {
  "kernelspec": {
   "display_name": "Python 3",
   "language": "python",
   "name": "python3"
  },
  "language_info": {
   "codemirror_mode": {
    "name": "ipython",
    "version": 3
   },
   "file_extension": ".py",
   "mimetype": "text/x-python",
   "name": "python",
   "nbconvert_exporter": "python",
   "pygments_lexer": "ipython3",
   "version": "3.11.0"
  }
 },
 "nbformat": 4,
 "nbformat_minor": 2
}
